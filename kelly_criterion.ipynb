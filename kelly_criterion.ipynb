{
 "cells": [
  {
   "cell_type": "code",
   "execution_count": 35,
   "metadata": {},
   "outputs": [],
   "source": [
    "def strategy_kelly_meta(kelly_crit : float):\n",
    "    def strategy_kelly(bankroll : float, previous_bankroll : float):\n",
    "        return bankroll*kelly_crit\n",
    "    return strategy_kelly\n",
    "\n",
    "def simulate_until(init_bankroll, strategy, n_of_games):\n",
    "\n",
    "    final_bankrolls = []\n",
    "    def play(bank_roll, n_of_games_left, strategy):\n",
    "        if n_of_games_left == 0:\n",
    "            final_bankrolls.append(bank_roll)\n",
    "            return\n",
    "        br_win = bank_roll*3\n",
    "        br_lose = bank_roll*0.7\n",
    "        play(strategy(br_win, bank_roll), n_of_games_left-1, strategy)\n",
    "        play(strategy(br_lose, bank_roll), n_of_games_left-1, strategy)\n",
    "\n",
    "    play(init_bankroll, n_of_games, strategy)\n",
    "    return final_bankrolls\n",
    "import random\n",
    "def simulate_with_winning_probs(init_bankroll, strategy, n_of_games, n_of_simulation, probability_of_winning):\n",
    "    final_bankrolls = []\n",
    "    def play(bank_roll, n_of_games_left, strategy):\n",
    "        if n_of_games_left == 0:\n",
    "            final_bankrolls.append(bank_roll)\n",
    "            return\n",
    "\n",
    "        if random.random() <= probability_of_winning:\n",
    "            br_next = bank_roll*3\n",
    "        else:\n",
    "            br_next = bank_roll*0.7\n",
    "        play(strategy(br_next, bank_roll), n_of_games_left-1, strategy)\n",
    "\n",
    "    for _ in range(n_of_simulation):\n",
    "        play(init_bankroll, n_of_games, strategy)\n",
    "    return final_bankrolls\n",
    "\n",
    "final_bankrolls = simulate_until(10000000.0,strategy_kelly_meta(0.8),7)"
   ]
  },
  {
   "cell_type": "code",
   "execution_count": 24,
   "metadata": {},
   "outputs": [],
   "source": [
    "import numpy as np\n",
    "val, counts = np.unique(final_bankrolls,return_counts=True)"
   ]
  },
  {
   "cell_type": "code",
   "execution_count": null,
   "metadata": {},
   "outputs": [],
   "source": [
    "final_bankrolls_with_probs = "
   ]
  },
  {
   "cell_type": "code",
   "execution_count": 27,
   "metadata": {},
   "outputs": [
    {
     "data": {
      "text/plain": [
       "<BarContainer object of 16 artists>"
      ]
     },
     "execution_count": 27,
     "metadata": {},
     "output_type": "execute_result"
    },
    {
     "data": {
      "image/png": "[encoded data removed]",
      "text/plain": [
       "<Figure size 640x480 with 1 Axes>"
      ]
     },
     "metadata": {},
     "output_type": "display_data"
    }
   ],
   "source": [
    "import matplotlib.pyplot as plt\n",
    "\n",
    "\n",
    "#plt.hist(final_bankrolls,)\n",
    "plt.bar(val,counts)\n",
    "#plt.xscale('log')\n",
    "#plt.yscale('log')"
   ]
  },
  {
   "cell_type": "code",
   "execution_count": 29,
   "metadata": {},
   "outputs": [
    {
     "data": {
      "text/plain": [
       "(array([1.72709485e+05, 7.40183507e+05, 7.40183507e+05, 7.40183507e+05,\n",
       "        3.17221503e+06, 3.17221503e+06, 3.17221503e+06, 3.17221503e+06,\n",
       "        1.35952073e+07, 1.35952073e+07, 5.82651740e+07, 5.82651740e+07,\n",
       "        2.49707889e+08, 2.49707889e+08, 1.07017667e+09, 4.58647142e+09]),\n",
       " array([ 1,  1,  5,  1,  1,  8, 11,  1, 14, 21, 25, 10, 11, 10,  7,  1]))"
      ]
     },
     "execution_count": 29,
     "metadata": {},
     "output_type": "execute_result"
    }
   ],
   "source": [
    "val, counts"
   ]
  },
  {
   "cell_type": "code",
   "execution_count": 33,
   "metadata": {},
   "outputs": [
    {
     "data": {
      "text/plain": [
       "128"
      ]
     },
     "execution_count": 33,
     "metadata": {},
     "output_type": "execute_result"
    }
   ],
   "source": [
    "counts.sum()"
   ]
  },
  {
   "cell_type": "code",
   "execution_count": 34,
   "metadata": {},
   "outputs": [
    {
     "name": "stdout",
     "output_type": "stream",
     "text": [
      "172709 0.0078125\n",
      "740183 0.0078125\n",
      "740183 0.0390625\n",
      "740183 0.0078125\n",
      "3172215 0.0078125\n",
      "3172215 0.0625\n",
      "3172215 0.0859375\n",
      "3172215 0.0078125\n",
      "13595207 0.109375\n",
      "13595207 0.1640625\n",
      "58265174 0.1953125\n",
      "58265174 0.078125\n",
      "249707888 0.0859375\n",
      "249707888 0.078125\n",
      "1070176665 0.0546875\n",
      "4586471424 0.0078125\n"
     ]
    }
   ],
   "source": [
    "for v,c in zip(val,counts):\n",
    "    print(int(v),c/128)"
   ]
  },
  {
   "cell_type": "code",
   "execution_count": null,
   "metadata": {},
   "outputs": [],
   "source": []
  }
 ],
 "metadata": {
  "kernelspec": {
   "display_name": "Python 3",
   "language": "python",
   "name": "python3"
  },
  "language_info": {
   "codemirror_mode": {
    "name": "ipython",
    "version": 3
   },
   "file_extension": ".py",
   "mimetype": "text/x-python",
   "name": "python",
   "nbconvert_exporter": "python",
   "pygments_lexer": "ipython3",
   "version": "3.11.10"
  }
 },
 "nbformat": 4,
 "nbformat_minor": 2
}
